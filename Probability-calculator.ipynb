{
 "cells": [
  {
   "cell_type": "code",
   "execution_count": 15,
   "id": "fe89d80f-56bb-474e-92ad-d21cd1eea2f7",
   "metadata": {},
   "outputs": [],
   "source": [
    "import copy\n",
    "import random\n",
    "# Consider using the modules imported above.\n",
    "\n",
    "class Hat:\n",
    "    def __init__(self, **kwargs):\n",
    "        self.contents = []\n",
    "        for colorName, colorCount in kwargs.items():\n",
    "            for _ in range(colorCount):\n",
    "                self.contents.append(colorName)\n",
    "\n",
    "    def draw(self, drawBall):\n",
    "        if drawBall > len(self.contents):\n",
    "            self.contents = self.contents\n",
    "\n",
    "        self.contentsDraw = self.contents.copy()\n",
    "        drawnColors = random.sample(self.contentsDraw, drawBall)\n",
    "\n",
    "        for color in drawnColors:\n",
    "            self.contentsDraw.remove(color)\n",
    "        return  drawnColors\n",
    "        \n",
    "def experiment(hat, expected_balls, num_balls_drawn, num_experiments):\n",
    "    success = 0\n",
    "    i = 0\n",
    "    while i < num_experiments:\n",
    "        drawnColors = hat.draw(num_balls_drawn)\n",
    "        \n",
    "        targetCount = list(expected_balls.values())\n",
    "\n",
    "        for j in range(len(expected_balls)):\n",
    "            count = drawnColors.count(list(expected_balls.keys())[j])\n",
    "\n",
    "            if targetCount[j] == count:\n",
    "                success +=1\n",
    "        i += 1\n",
    "    probability = success / num_experiments\n",
    "    return probability\n"
   ]
  },
  {
   "cell_type": "code",
   "execution_count": 16,
   "id": "5bb93c87-599c-4f96-9682-59992a4a9175",
   "metadata": {},
   "outputs": [
    {
     "name": "stdout",
     "output_type": "stream",
     "text": [
      "Probability: 0.8063333333333333\n"
     ]
    }
   ],
   "source": [
    "random.seed(95)\n",
    "hat = Hat(blue=4, red=2, green=6)\n",
    "probability = experiment(\n",
    "    hat=hat,\n",
    "    expected_balls={\"blue\": 2,\n",
    "                    \"red\": 1},\n",
    "    num_balls_drawn=4,\n",
    "    num_experiments=3000)\n",
    "print(\"Probability:\", probability)\n"
   ]
  },
  {
   "cell_type": "code",
   "execution_count": 21,
   "id": "b65dcb75-7ed5-4e72-858f-6505a70f52f5",
   "metadata": {},
   "outputs": [
    {
     "name": "stdout",
     "output_type": "stream",
     "text": [
      "Probability: 0.882\n"
     ]
    }
   ],
   "source": [
    "hat = Hat(black=6, red=4, green=3)\n",
    "probability = experiment(hat=hat,\n",
    "                  expected_balls={\"red\":2,\"green\":1},\n",
    "                  num_balls_drawn=5,\n",
    "                  num_experiments=2000)\n",
    "print(\"Probability:\", probability)"
   ]
  },
  {
   "cell_type": "code",
   "execution_count": null,
   "id": "ba4aff16-34c6-4a93-ab04-4de3ad4a695f",
   "metadata": {},
   "outputs": [],
   "source": []
  }
 ],
 "metadata": {
  "kernelspec": {
   "display_name": "Python 3 (ipykernel)",
   "language": "python",
   "name": "python3"
  },
  "language_info": {
   "codemirror_mode": {
    "name": "ipython",
    "version": 3
   },
   "file_extension": ".py",
   "mimetype": "text/x-python",
   "name": "python",
   "nbconvert_exporter": "python",
   "pygments_lexer": "ipython3",
   "version": "3.10.5"
  }
 },
 "nbformat": 4,
 "nbformat_minor": 5
}
